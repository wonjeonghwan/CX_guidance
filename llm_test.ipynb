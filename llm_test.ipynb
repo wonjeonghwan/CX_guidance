{
 "cells": [
  {
   "cell_type": "code",
   "execution_count": 5,
   "id": "9bbc9ca6",
   "metadata": {},
   "outputs": [
    {
     "data": {
      "text/plain": [
       "True"
      ]
     },
     "execution_count": 5,
     "metadata": {},
     "output_type": "execute_result"
    }
   ],
   "source": [
    "import os\n",
    "os.environ[\"OPENAI_API_KEY\"]\n",
    "from langchain_openai import ChatOpenAI\n",
    "from langchain_core.prompts import PromptTemplate\n",
    "from dotenv import load_dotenv\n",
    "load_dotenv()"
   ]
  },
  {
   "cell_type": "code",
   "execution_count": 6,
   "id": "76f10617",
   "metadata": {},
   "outputs": [
    {
     "data": {
      "text/plain": [
       "AIMessage(content='윤석열 대통령의 탄핵은 그가 이끄는 정부에 대한 불만이 커져서 일어난 일이에요. 이재명은 그 틈을 타서 대선에 나갔고, 많은 사람들이 새로운 변화를 원했죠. 하지만 각자의 지지자들 사이에는 의견 차이가 커서, 정치 상황이 복잡해요. 이런 상황은 때론 공정하지 않게 보일 수 있어요.', additional_kwargs={'refusal': None}, response_metadata={'token_usage': {'completion_tokens': 95, 'prompt_tokens': 87, 'total_tokens': 182, 'completion_tokens_details': {'accepted_prediction_tokens': 0, 'audio_tokens': 0, 'reasoning_tokens': 0, 'rejected_prediction_tokens': 0}, 'prompt_tokens_details': {'audio_tokens': 0, 'cached_tokens': 0}}, 'model_name': 'gpt-4o-mini-2024-07-18', 'system_fingerprint': 'fp_34a54ae93c', 'id': 'chatcmpl-Bgiiv8uBi3lmq4S2DHBVuJq7qche3', 'service_tier': 'default', 'finish_reason': 'stop', 'logprobs': None}, id='run--5ed940b7-e601-4aa0-b646-be8c4a2cb502-0', usage_metadata={'input_tokens': 87, 'output_tokens': 95, 'total_tokens': 182, 'input_token_details': {'audio': 0, 'cache_read': 0}, 'output_token_details': {'audio': 0, 'reasoning': 0}})"
      ]
     },
     "execution_count": 6,
     "metadata": {},
     "output_type": "execute_result"
    }
   ],
   "source": [
    "llm = ChatOpenAI(model_name='gpt-4o-mini')\n",
    "\n",
    "template = '당신은 경제 전문가이자 번역가임. {text}에 대하여 {level}세의 청자에게 한국어로 알려주고, 주변 상황에 기반하여 각 당사자의 저의를 덧붙힌다'\\\n",
    "'약 100글자 이내로 설명하고, 주관적일 수 있는 상황까지 함께 알려준다'\n",
    "\n",
    "prompt = PromptTemplate(\n",
    "    template=template,\n",
    "    input_variables=['text','level']\n",
    ")\n",
    "prompt_partial = prompt.partial(level = 10)\n",
    "\n",
    "chain = prompt_partial | llm\n",
    "chain.invoke(\"윤석열 탄핵과 이재명의 대통령 당선\")"
   ]
  },
  {
   "cell_type": "code",
   "execution_count": null,
   "id": "2a5e6184",
   "metadata": {},
   "outputs": [],
   "source": [
    "get_messages_by_customer(\"01062302782\")"
   ]
  }
 ],
 "metadata": {
  "kernelspec": {
   "display_name": "myenv",
   "language": "python",
   "name": "python3"
  },
  "language_info": {
   "codemirror_mode": {
    "name": "ipython",
    "version": 3
   },
   "file_extension": ".py",
   "mimetype": "text/x-python",
   "name": "python",
   "nbconvert_exporter": "python",
   "pygments_lexer": "ipython3",
   "version": "3.13.4"
  }
 },
 "nbformat": 4,
 "nbformat_minor": 5
}
